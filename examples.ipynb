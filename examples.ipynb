{
 "cells": [
  {
   "cell_type": "markdown",
   "metadata": {},
   "source": [
    "# `argunparse` examples"
   ]
  },
  {
   "cell_type": "markdown",
   "metadata": {},
   "source": [
    "## Unparsing to a single string"
   ]
  },
  {
   "cell_type": "code",
   "execution_count": 1,
   "metadata": {},
   "outputs": [
    {
     "data": {
      "text/plain": [
       "\"install 'my cool software.exe'\""
      ]
     },
     "execution_count": 1,
     "metadata": {},
     "output_type": "execute_result"
    }
   ],
   "source": [
    "import argunparse\n",
    "\n",
    "unparser = argunparse.ArgumentUnparser()\n",
    "\n",
    "unparser.unparse_args(['install', 'my cool software.exe'])"
   ]
  },
  {
   "cell_type": "code",
   "execution_count": 2,
   "metadata": {},
   "outputs": [
    {
     "data": {
      "text/plain": [
       "'-x -a -f=my_archive.tar.gz'"
      ]
     },
     "execution_count": 2,
     "metadata": {},
     "output_type": "execute_result"
    }
   ],
   "source": [
    "unparser.unparse_options({'x': True, 'a': True, 'f': 'my_archive.tar.gz'})"
   ]
  },
  {
   "cell_type": "code",
   "execution_count": 3,
   "metadata": {},
   "outputs": [
    {
     "data": {
      "text/plain": [
       "\"--beans='spam spam spam lovely spam' eggs ham\""
      ]
     },
     "execution_count": 3,
     "metadata": {},
     "output_type": "execute_result"
    }
   ],
   "source": [
    "unparser.unparse_options_and_args({'beans': 'spam spam spam lovely spam'}, ['eggs', 'ham'])"
   ]
  },
  {
   "cell_type": "code",
   "execution_count": 4,
   "metadata": {},
   "outputs": [
    {
     "data": {
      "text/plain": [
       "\"--verbose --debug preprocess 'hello world'\""
      ]
     },
     "execution_count": 4,
     "metadata": {},
     "output_type": "execute_result"
    }
   ],
   "source": [
    "unparser.unparse('preprocess', 'hello world', verbose=True, debug=True)"
   ]
  },
  {
   "cell_type": "code",
   "execution_count": 5,
   "metadata": {},
   "outputs": [
    {
     "data": {
      "text/plain": [
       "'-OutFile my_file.txt'"
      ]
     },
     "execution_count": 5,
     "metadata": {},
     "output_type": "execute_result"
    }
   ],
   "source": [
    "unparser = argunparse.ArgumentUnparser(long_opt='-', opt_value=' ')\n",
    "\n",
    "unparser.unparse_options({'OutFile': 'my_file.txt'})"
   ]
  },
  {
   "cell_type": "markdown",
   "metadata": {},
   "source": [
    "## Unparsing to a list (reverse of `argparse`)"
   ]
  },
  {
   "cell_type": "code",
   "execution_count": 6,
   "metadata": {},
   "outputs": [
    {
     "data": {
      "text/plain": [
       "['install', \"'my cool software.exe'\"]"
      ]
     },
     "execution_count": 6,
     "metadata": {},
     "output_type": "execute_result"
    }
   ],
   "source": [
    "import argunparse\n",
    "\n",
    "unparser = argunparse.ArgumentUnparser()\n",
    "\n",
    "unparser.unparse_args(['install', 'my cool software.exe'], to_list=True)"
   ]
  },
  {
   "cell_type": "code",
   "execution_count": 7,
   "metadata": {},
   "outputs": [
    {
     "data": {
      "text/plain": [
       "['-x', '-a', '-f=my_archive.tar.gz']"
      ]
     },
     "execution_count": 7,
     "metadata": {},
     "output_type": "execute_result"
    }
   ],
   "source": [
    "unparser.unparse_options({'x': True, 'a': True, 'f': 'my_archive.tar.gz'}, to_list=True)"
   ]
  },
  {
   "cell_type": "code",
   "execution_count": 8,
   "metadata": {},
   "outputs": [
    {
     "data": {
      "text/plain": [
       "[\"--beans='spam spam spam lovely spam'\", 'eggs', 'ham']"
      ]
     },
     "execution_count": 8,
     "metadata": {},
     "output_type": "execute_result"
    }
   ],
   "source": [
    "unparser.unparse_options_and_args({'beans': 'spam spam spam lovely spam'}, ['eggs', 'ham'], to_list=True)"
   ]
  },
  {
   "cell_type": "code",
   "execution_count": 9,
   "metadata": {},
   "outputs": [
    {
     "data": {
      "text/plain": [
       "['--verbose', '--debug', 'preprocess', \"'hello world'\"]"
      ]
     },
     "execution_count": 9,
     "metadata": {},
     "output_type": "execute_result"
    }
   ],
   "source": [
    "unparser.unparse_to_list('preprocess', 'hello world', verbose=True, debug=True)"
   ]
  },
  {
   "cell_type": "code",
   "execution_count": 10,
   "metadata": {},
   "outputs": [
    {
     "data": {
      "text/plain": [
       "['-OutFile', 'my_file.txt']"
      ]
     },
     "execution_count": 10,
     "metadata": {},
     "output_type": "execute_result"
    }
   ],
   "source": [
    "unparser = argunparse.ArgumentUnparser(long_opt='-', opt_value=' ')\n",
    "\n",
    "unparser.unparse_options({'OutFile': 'my_file.txt'}, to_list=True)"
   ]
  },
  {
   "cell_type": "markdown",
   "metadata": {},
   "source": [
    "## Example from readme"
   ]
  },
  {
   "cell_type": "code",
   "execution_count": 11,
   "metadata": {},
   "outputs": [
    {
     "name": "stdout",
     "output_type": "stream",
     "text": [
      "-v --long-flag -o=out_file.txt --log=log_file.txt in_file.txt\n",
      "['-v', '--long-flag', '-o=out_file.txt', '--log=log_file.txt', 'in_file.txt']\n"
     ]
    }
   ],
   "source": [
    "import argunparse\n",
    "\n",
    "options = {\n",
    "    'v': True,\n",
    "    'long-flag': True,\n",
    "    'ignored': False,\n",
    "    'also-ignored': None,\n",
    "    'o': 'out_file.txt',\n",
    "    'log': 'log_file.txt'\n",
    "    }\n",
    "args = {\n",
    "    'in_file.txt'\n",
    "    }\n",
    "\n",
    "unparser = argunparse.ArgumentUnparser()\n",
    "print(unparser.unparse(*args, **options))\n",
    "\n",
    "print(unparser.unparse_to_list(*args, **options))"
   ]
  }
 ],
 "metadata": {
  "kernelspec": {
   "display_name": "Python 3",
   "language": "python",
   "name": "python3"
  },
  "language_info": {
   "codemirror_mode": {
    "name": "ipython",
    "version": 3
   },
   "file_extension": ".py",
   "mimetype": "text/x-python",
   "name": "python",
   "nbconvert_exporter": "python",
   "pygments_lexer": "ipython3",
   "version": "3.6.1"
  }
 },
 "nbformat": 4,
 "nbformat_minor": 2
}
